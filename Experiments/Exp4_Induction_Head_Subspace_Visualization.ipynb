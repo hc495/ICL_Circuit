{
 "cells": [
  {
   "cell_type": "markdown",
   "id": "0e784646",
   "metadata": {},
   "source": [
    "**Official implementation of paper \"Revisiting In-context Learning Inference Circuit in Large Language Models\" (ICLR 2025)**:\n",
    "\n",
    "### Label Representations Visualization on the Induction Subspace\n",
    "\n",
    "This experiment is to visualize the label representations on the subspace of the induction heads in the ICL model, results in Fig. 7.\n",
    "\n",
    "Author: Hakaze Cho, yfzhao@jaist.ac.jp, 2024/08\n",
    "\n",
    "Organized, commented, and modified by: Hakaze Cho, 2025/01/31"
   ]
  },
  {
   "cell_type": "markdown",
   "id": "85aa1634",
   "metadata": {},
   "source": [
    "**Part I: Import, Define, and Load Everything**\n",
    "\n",
    "What you should do:\n",
    "1. [Cell 1] Change to the path from your working directory to the directory containing the README.md file.\n",
    "2. [Cell 2] Define your experiment parameters.\n",
    "3. Run the Cell 1 - 4.\n"
   ]
  },
  {
   "cell_type": "code",
   "execution_count": null,
   "id": "f68597c3",
   "metadata": {},
   "outputs": [],
   "source": [
    "# Cell 1: Import libraries and change the working directory.\n",
    "\n",
    "## Change the working directory\n",
    "import os\n",
    "try:\n",
    "    # Change to the path from your working directory to the directory containing the README.md file.\n",
    "    os.chdir(\"ICL_Inference_Dynamics_Released\") \n",
    "except:\n",
    "    print(\"Already in the correct directory or the directory does not exist.\")\n",
    "\n",
    "## Import libraries\n",
    "from util import load_model_and_data, induction_evaluation, inference\n",
    "import StaICC\n",
    "import matplotlib.pyplot as plt\n",
    "import pickle\n",
    "import numpy as np\n",
    "from tqdm import tqdm as tqdm\n",
    "import torch\n",
    "\n",
    "## Some definations for the plots.\n",
    "plt.style.use('default')\n",
    "plt.rc('font',family='Cambria Math')\n",
    "plt.rcParams['font.family'] = 'serif'\n",
    "plt.rcParams['font.serif'] = ['Cambria Math'] + plt.rcParams['font.serif']\n",
    "\n",
    "## Transfer the pixel in the figure into the \"assignment\" for the color.\n",
    "def get_color_number_for_pixel(pixel_xs, pixel_ys, anchers, ancher_labels, zero_point):\n",
    "    label0_anchors = []\n",
    "    label1_anchors = []\n",
    "    for i, label in enumerate(ancher_labels):\n",
    "        if label == 0:\n",
    "            label0_anchors.append(anchers[i] - zero_point)\n",
    "        else:\n",
    "            label1_anchors.append(anchers[i] - zero_point)\n",
    "    res = np.zeros_like(pixel_xs)\n",
    "    for x_index in range(pixel_xs.shape[0]):\n",
    "        for y_index in range(pixel_xs.shape[1]):\n",
    "            temp_res = 0\n",
    "            for anchor in label0_anchors:\n",
    "                temp_res -= np.dot(anchor, np.array([pixel_xs[x_index][y_index], pixel_ys[x_index][y_index]]) - zero_point)\n",
    "            for anchor in label1_anchors:\n",
    "                temp_res += np.dot(anchor, np.array([pixel_xs[x_index][y_index], pixel_ys[x_index][y_index]]) - zero_point)\n",
    "            res[x_index][y_index] = temp_res\n",
    "    return res\n",
    "\n",
    "## Get the mapping matrix from a head number and the total transform matrix (W_Q, W_K) of the model.\n",
    "def get_w_q_and_w_k_from_head(q_proj, k_proj, head_num, amount_head, amount_k_head = None):\n",
    "    # amount_k_head: for Grouped Query Attention. Should be same with `model.num_key_value_heads`. If None, it is the same as amount_head.\n",
    "    if amount_k_head is None:\n",
    "        amount_k_head = amount_head\n",
    "    Wk_parameters = k_proj.weight.detach()\n",
    "    Wq_parameters = q_proj.weight.detach()\n",
    "    dim_per_head = Wq_parameters.shape[0] // amount_head\n",
    "    dim_start_q = dim_per_head * head_num\n",
    "    dim_end_q = dim_per_head * (head_num + 1)\n",
    "    dim_start_k = dim_per_head * (head_num % amount_k_head)\n",
    "    dim_end_k = dim_per_head * ((head_num % amount_k_head) + 1)\n",
    "    return Wq_parameters[dim_start_q:dim_end_q], Wk_parameters[dim_start_k:dim_end_k]"
   ]
  },
  {
   "cell_type": "code",
   "execution_count": 31,
   "id": "665814c1",
   "metadata": {},
   "outputs": [],
   "source": [
    "# Cell 2: Model and huggingfacetoken configurations\n",
    "\n",
    "## The huggingface model name to be tested as the LM for ICL. \n",
    "## Recommended: \"meta-llama/Meta-Llama-3-8B\", \"tiiuae/falcon-7b\", \"meta-llama/Meta-Llama-3-70B\", \"tiiuae/falcon-40b\"\n",
    "ICL_model_name = \"meta-llama/Meta-Llama-3-70B\"\n",
    "\n",
    "## Whether to use the quantized version of the model. \n",
    "## Recommended: Keep it default.\n",
    "quantized = False if ICL_model_name in [\"meta-llama/Meta-Llama-3-8B\", \"EleutherAI/pythia-6.9b\", \"tiiuae/falcon-7b\"] else True\n",
    "\n",
    "## The huggingface token to access the model. If you use the Llama model, you need to set this.\n",
    "huggingface_token = \"your token here\"\n",
    "\n",
    "## Use CPU instead of GPU to process this experiment. \n",
    "## Recommended: Only to use when you have the intermediate results in path `experiment_matrial` (shown below)\n",
    "cpu_process = False\n",
    "\n",
    "# Experiment parameters\n",
    "\n",
    "## The demonstration numbers you want to show in the figure. Should be 4 numbers in the list.\n",
    "figuring_k_numbers = [1, 2, 15, 16]\n",
    "k = max(figuring_k_numbers)\n",
    "\n",
    "## The used dataset index from the StaICC library. Alternative: 0, 1, 2, 3, 4, 5. See the README.md for more information.\n",
    "dataset_index = 0 \n",
    "\n",
    "## Force the ICL_model to reload, even the ICL_model is already in the variables. \n",
    "## Recommended: False.\n",
    "model_forced_reload = False\n",
    "\n",
    "## Force the experiment to be redone, even the intermediate results are already in the path `experiment_material`.\n",
    "## Recommended: False.\n",
    "experiment_forced_redo = False\n",
    "\n",
    "## Define the const in the threshold to be judged as a forerunner token head. (e.g., \"5\" in 5/n_t)\n",
    "induction_head_threthold_times = 5\n",
    "\n",
    "## Provide an index for the input samples. (to index the `bench.prompt()` list)\n",
    "example_sample_number = 8\n",
    "\n",
    "## Visualize the best head in the figure? True or False.\n",
    "## If False, the figure will show the head with the least correctness in the same layer with the best head.\n",
    "visualize_best_head = True"
   ]
  },
  {
   "cell_type": "code",
   "execution_count": null,
   "id": "8a57a11d-912c-485e-a9a6-8f3c0ebb0634",
   "metadata": {
    "tags": []
   },
   "outputs": [],
   "source": [
    "# Cell 3: Load the data and build the test inputs.\n",
    "\n",
    "bench = StaICC.Normal(k)\n",
    "prompts, queries = load_model_and_data.load_data_from_StaICC_experimentor(bench[dataset_index], \"label_words\")"
   ]
  },
  {
   "cell_type": "code",
   "execution_count": null,
   "id": "4a4f0d50-8688-4e0e-94e2-81a9ae6d10d0",
   "metadata": {
    "tags": []
   },
   "outputs": [],
   "source": [
    "# Cell 4: Load the model.\n",
    "\n",
    "vars_dict = vars() if \"ICL_model\" in vars() else locals()\n",
    "if \"ICL_model\" not in vars_dict or model_forced_reload:\n",
    "    ICL_model, ICL_tknz = load_model_and_data.load_ICL_model(ICL_model_name, huggingface_token = huggingface_token, quantized = quantized, device = \"cpu\" if cpu_process else \"cuda\")\n",
    "    loaded = True"
   ]
  },
  {
   "cell_type": "markdown",
   "id": "b63609bd",
   "metadata": {},
   "source": [
    "**Part II: Run the Experiment**\n",
    "\n",
    "What you should do:\n",
    "\n",
    "1. Run the Cell 5 - 10."
   ]
  },
  {
   "cell_type": "code",
   "execution_count": null,
   "id": "f8062b40-088c-4b80-940b-60ffe26c1ced",
   "metadata": {
    "tags": []
   },
   "outputs": [],
   "source": [
    "# Cell 5: Inference the hidden states and save the intermediate results. If the intermediate results in path `experiment_matrial` (shown below) has been detected, automatically load the results.\n",
    "\n",
    "data_file_name = \"experiment_matrial/\" + ICL_model_name.replace('/', '_') + \",Hidd_att\" + ',' + str(k) + ',' + str(dataset_index + 1) + \".pickle\"\n",
    "\n",
    "vars_dict = vars() if \"ICL_hidden_states\" in vars() else locals()\n",
    "if \"ICL_hidden_states\" in vars_dict:\n",
    "    del ICL_hidden_states\n",
    "if os.path.exists(data_file_name):\n",
    "    with open(data_file_name, 'rb') as f:\n",
    "        ICL_hidden_states = pickle.load(f)\n",
    "        print(\"loaded\")\n",
    "else:\n",
    "    ICL_hidden_states = inference.step3_get_fl_feature_and_lastftol_attention(ICL_model, ICL_tknz, prompts, bench[dataset_index])\n",
    "    with open(data_file_name, 'wb') as f:\n",
    "        pickle.dump(ICL_hidden_states, f)"
   ]
  },
  {
   "cell_type": "code",
   "execution_count": 6,
   "id": "802a8776-0eba-470c-b154-43bfd22eea71",
   "metadata": {
    "tags": []
   },
   "outputs": [],
   "source": [
    "# Cell 6: Calculate the counted times as **correct** induction head for each attention head, and calculate the layered statistics.\n",
    "\n",
    "mean_max_correct_magnitude = []\n",
    "mean_correct_head_count = []\n",
    "correct_induction_head_statics = []\n",
    "\n",
    "for layers in range(len(ICL_hidden_states[1][0])):\n",
    "    temp = []\n",
    "    head_count = []\n",
    "    layer_head_statics = [0] * len(ICL_hidden_states[1][0][0])\n",
    "    for sample in range(len(ICL_hidden_states[1])):\n",
    "        thre = induction_evaluation.get_theresold_correctness_from_prompt(ICL_tknz, prompts[sample], induction_head_threthold_times, len(bench[dataset_index].get_label_space()), 1)\n",
    "        magnitudes = induction_evaluation.get_induction_correctness_for_single_layer(ICL_hidden_states[1], bench[dataset_index], sample, layers)\n",
    "        temp.append(max(magnitudes))\n",
    "        count = 0\n",
    "        for i, temp_res in enumerate(magnitudes):\n",
    "            if temp_res > thre:\n",
    "                count += 1\n",
    "                layer_head_statics[i] += 1\n",
    "        head_count.append(count)\n",
    "    correct_induction_head_statics.append(layer_head_statics)\n",
    "    mean_max_correct_magnitude.append(np.mean(temp))\n",
    "    mean_correct_head_count.append(np.mean(head_count))"
   ]
  },
  {
   "cell_type": "code",
   "execution_count": 7,
   "id": "05109ba2-22b1-4139-a339-cd3f7c13138a",
   "metadata": {
    "tags": []
   },
   "outputs": [],
   "source": [
    "# Cell 7: Find the head which should be visualized in all the model.\n",
    "\n",
    "max_head_correct_number_per_layer = [] ## The max marked times as a correct induction head of each layer.\n",
    "for layer in correct_induction_head_statics:\n",
    "    max_head_correct_number_per_layer.append(max(layer))\n",
    "\n",
    "best_layer_index = np.argmax(max_head_correct_number_per_layer)\n",
    "best_head_index = np.argmax(correct_induction_head_statics[best_layer_index])\n",
    "worst_head_index = np.argmin(correct_induction_head_statics[best_layer_index])\n",
    "if visualize_best_head:\n",
    "    correct_times = np.max(correct_induction_head_statics[best_layer_index])\n",
    "    selected_head_index = best_head_index\n",
    "else:\n",
    "    correct_times = np.min(correct_induction_head_statics[best_layer_index])\n",
    "    selected_head_index = worst_head_index"
   ]
  },
  {
   "cell_type": "code",
   "execution_count": null,
   "id": "4a40ec07",
   "metadata": {},
   "outputs": [],
   "source": [
    "# Cell 8: Reload the model on CPU with no quantization to visualize the attention map, if the quantized version is used.\n",
    "\n",
    "if quantized:\n",
    "    ICL_model_reload, _ = load_model_and_data.load_ICL_model(ICL_model_name, huggingface_token = huggingface_token, quantized = False, device = \"cpu\")\n",
    "else:\n",
    "    ICL_model_reload = ICL_model"
   ]
  },
  {
   "cell_type": "code",
   "execution_count": null,
   "id": "cd85c942-9031-4957-a5a9-e3924413e59c",
   "metadata": {
    "tags": []
   },
   "outputs": [],
   "source": [
    "# Cell 9: Get the W_Q and W_K for the best head, and calculate the W_Q^T * W_K.\n",
    "\n",
    "Wq, Wk = get_w_q_and_w_k_from_head(\n",
    "    ICL_model_reload.model.layers[best_layer_index].self_attn.q_proj,\n",
    "    ICL_model_reload.model.layers[best_layer_index].self_attn.k_proj,\n",
    "    selected_head_index,\n",
    "    ICL_model_reload.config.num_attention_heads,\n",
    "    ICL_model_reload.config.num_key_value_heads\n",
    ")\n",
    "\n",
    "subspace_mapping = torch.matmul(Wq.transpose(1, 0), Wk)"
   ]
  },
  {
   "cell_type": "code",
   "execution_count": 11,
   "id": "62dc47d0-e6d0-47c5-9768-fcabfa40fb99",
   "metadata": {
    "tags": []
   },
   "outputs": [],
   "source": [
    "# Cell 10: Map the label hidden states to the subspace of the best induction head.\n",
    "\n",
    "sample_label_hidden_states = ICL_hidden_states[0][example_sample_number][best_layer_index][1:-1:2].to(subspace_mapping.device)\n",
    "mapped_label = torch.matmul(subspace_mapping, sample_label_hidden_states.transpose(1, 0).to(torch.float32)).transpose(1, 0).cpu().numpy()\n",
    "\n",
    "demo_indexs = bench[dataset_index].demonstration_sampler[example_sample_number]\n",
    "demo_labels = []\n",
    "for demo_index in demo_indexs:\n",
    "    demo_labels.append(bench[dataset_index].get_label_space().index(bench[dataset_index].demonstration_set()[demo_index][1]))"
   ]
  },
  {
   "cell_type": "markdown",
   "id": "17d2d5ec",
   "metadata": {},
   "source": [
    "**Part III: Visualization to the Fig. 7**\n",
    "\n",
    "What you should do:\n",
    "\n",
    "1. Run the Cell 11 - 12"
   ]
  },
  {
   "cell_type": "code",
   "execution_count": 12,
   "id": "90ab5ee5-77ca-47ff-931c-f197286fe5b4",
   "metadata": {
    "tags": []
   },
   "outputs": [],
   "source": [
    "# Cell 11: Use PCA to reduce the dimension of the mapped label to 2.\n",
    "\n",
    "from sklearn.decomposition import PCA\n",
    "\n",
    "joint_features = mapped_label\n",
    "pca = PCA(n_components = 2)\n",
    "pca.fit(joint_features)\n",
    "pcares = pca.transform(joint_features)[:16]\n",
    "\n",
    "zero_point = pca.transform([np.zeros_like(mapped_label[0])])\n",
    "\n",
    "query_point = pca.transform([ICL_hidden_states[0][example_sample_number][best_layer_index][-2].numpy()])"
   ]
  },
  {
   "cell_type": "code",
   "execution_count": 36,
   "id": "3e05a92d-f629-4b02-b10b-63d9f272c0c2",
   "metadata": {
    "tags": []
   },
   "outputs": [
    {
     "data": {
      "text/plain": [
       "Text(0.5, 0.98, 'Layer 31, Head 32, Correct Rate: 0.95')"
      ]
     },
     "execution_count": 36,
     "metadata": {},
     "output_type": "execute_result"
    },
    {
     "data": {
      "image/png": "[encoded data removed]",
      "text/plain": [
       "<Figure size 350x350 with 4 Axes>"
      ]
     },
     "metadata": {},
     "output_type": "display_data"
    }
   ],
   "source": [
    "# Cell 12: Plot the figure.\n",
    "\n",
    "plt.style.use('default')\n",
    "plt.rc('font',family='Cambria Math')\n",
    "plt.rcParams['font.family'] = 'serif'\n",
    "plt.rcParams['font.serif'] = ['Cambria Math'] + plt.rcParams['font.serif']\n",
    "\n",
    "anchor_x_limits = (np.min(pcares.T[0]), np.max(pcares.T[0]))\n",
    "anchor_y_limits = (np.min(pcares.T[1]), np.max(pcares.T[1]))\n",
    "\n",
    "pixel_xs, pixel_ys = np.mgrid[slice(anchor_x_limits[0] * 1.2, anchor_x_limits[1] * 1.2 + 0.1, 0.1),\n",
    "                              slice(anchor_y_limits[0] * 1.2, anchor_y_limits[1] * 1.2 + 0.1, 0.1)]\n",
    "\n",
    "fig, axes=plt.subplots(2,2, figsize=(3.5, 3.5))\n",
    "\n",
    "for i, figuring_k_number in enumerate(figuring_k_numbers):\n",
    "    den = get_color_number_for_pixel(pixel_xs, pixel_ys, pcares[:figuring_k_number], demo_labels[:figuring_k_number], zero_point[0])\n",
    "    max_abs_in_den = np.max(np.abs(den))\n",
    "\n",
    "    c = axes[i // 2][i % 2].pcolormesh(pixel_xs, pixel_ys, den, cmap='RdBu', vmin = -max_abs_in_den, vmax = max_abs_in_den)\n",
    "\n",
    "    pcares0 = []\n",
    "    pcares1 = []\n",
    "    for j, label in enumerate(demo_labels[:figuring_k_number]):\n",
    "        if label == 0:\n",
    "            pcares0.append(pcares[j])\n",
    "        else:\n",
    "            pcares1.append(pcares[j])\n",
    "    pcares0 = np.array(pcares0)\n",
    "    pcares1 = np.array(pcares1)\n",
    "    \n",
    "    if len(pcares0) > 0:\n",
    "        axes[i // 2][i % 2].scatter(pcares0.T[0], pcares0.T[1], c = \"black\", marker = \"x\", label = \"Positive Label Tokens\")\n",
    "    if len(pcares1) > 0:\n",
    "        axes[i // 2][i % 2].scatter(pcares1.T[0], pcares1.T[1], c='none',marker='o', edgecolors='black', label = \"Positive Label Tokens\")\n",
    "    axes[i // 2][i % 2].scatter(zero_point[0][0], zero_point[0][1], color = 'black', marker='^', label = \"Zero Point\")\n",
    "    axes[i // 2][i % 2].set_title(\"k = \" + str(figuring_k_number), fontsize=10)\n",
    "    axes[i // 2][i % 2].set_xticks([])\n",
    "    axes[i // 2][i % 2].set_yticks([])\n",
    "    \n",
    "fig.suptitle(\"Layer \" + str(best_layer_index) +  \", Head \" + str(best_head_index) + \", Correct Rate: \" + str(correct_times / len(prompts))[:4], fontsize=10)"
   ]
  }
 ],
 "metadata": {
  "kernelspec": {
   "display_name": "Python 3 (ipykernel)",
   "language": "python",
   "name": "python3"
  },
  "language_info": {
   "codemirror_mode": {
    "name": "ipython",
    "version": 3
   },
   "file_extension": ".py",
   "mimetype": "text/x-python",
   "name": "python",
   "nbconvert_exporter": "python",
   "pygments_lexer": "ipython3",
   "version": "3.11.11"
  }
 },
 "nbformat": 4,
 "nbformat_minor": 5
}
